{
 "cells": [
  {
   "cell_type": "markdown",
   "id": "161e521a",
   "metadata": {},
   "source": [
    "# 1. 평균 점수 구하기\n",
    "key 값으로 과목명, value 값으로 점수를 가지는 dictionary를 전달 받아, 전체 과목의\n",
    "평균 점수를 반환하는 함수 get_dict_avg 함수를 작성하시오.\n"
   ]
  },
  {
   "cell_type": "code",
   "execution_count": 4,
   "id": "38461a12",
   "metadata": {},
   "outputs": [
    {
     "data": {
      "text/plain": [
       "85.5"
      ]
     },
     "execution_count": 4,
     "metadata": {},
     "output_type": "execute_result"
    }
   ],
   "source": [
    "def get_dict_avg(score) :\n",
    "    \n",
    "    num_1 = score.get('python')\n",
    "    num_2 = score.get('web')\n",
    "    num_3 = score.get('algorithm')\n",
    "    num_4 = score.get('django')\n",
    "    total =  num_1 + num_2 + num_3 + num_4\n",
    "        \n",
    "    return total / 4\n",
    "\n",
    "\n",
    "get_dict_avg({\n",
    "'python' : 80,\n",
    "'web' : 83,\n",
    "'algorithm' : 90,\n",
    "'django' : 89,\n",
    "})"
   ]
  },
  {
   "cell_type": "markdown",
   "id": "ef8486be",
   "metadata": {},
   "source": [
    "# 2. 혈액형 분류하기\n",
    "여러 사람의 혈액형(A, B, AB, O)에 대한 정보가 담긴 list를 전달 받아, key는 혈액형의\n",
    "종류, value는 사람 수인 dictionary를 반환하는 count_blood 함수를 작성하시오.\n"
   ]
  },
  {
   "cell_type": "code",
   "execution_count": 7,
   "id": "537db39e",
   "metadata": {},
   "outputs": [
    {
     "ename": "SyntaxError",
     "evalue": "closing parenthesis ')' does not match opening parenthesis '{' (79681800.py, line 17)",
     "output_type": "error",
     "traceback": [
      "\u001b[1;36m  Input \u001b[1;32mIn [7]\u001b[1;36m\u001b[0m\n\u001b[1;33m    return {f'(A': A_cnt, 'B' : B_cnt, 'O' : O_cnt, 'AB' : AB_cnt)}\u001b[0m\n\u001b[1;37m                                                                 ^\u001b[0m\n\u001b[1;31mSyntaxError\u001b[0m\u001b[1;31m:\u001b[0m closing parenthesis ')' does not match opening parenthesis '{'\n"
     ]
    }
   ],
   "source": [
    "def count_blood(blo) :\n",
    "    A_cnt = 0\n",
    "    B_cnt = 0\n",
    "    O_cnt = 0\n",
    "    AB_cnt = 0\n",
    "    \n",
    "    for i in blo :\n",
    "        if i == 'A' :\n",
    "            A_cnt += 1\n",
    "        if i == 'B' :\n",
    "            B_cnt += 1\n",
    "        if i == 'O' :\n",
    "            O_cnt += 1\n",
    "        if i == 'AB' :\n",
    "            AB_cnt += 1\n",
    "            \n",
    "    return {f'(A': A_cnt, 'B' : B_cnt, 'O' : O_cnt, 'AB' : AB_cnt)}\n",
    " \n",
    "\n",
    "\n",
    "\n",
    "count_blood([\n",
    "'A', 'B', 'A', 'O', 'AB', 'AB’,\n",
    "'O', 'A', 'B', 'O', 'B', 'AB’,\n",
    "])"
   ]
  },
  {
   "cell_type": "code",
   "execution_count": null,
   "id": "84c66c74",
   "metadata": {},
   "outputs": [],
   "source": []
  }
 ],
 "metadata": {
  "kernelspec": {
   "display_name": "Python 3 (ipykernel)",
   "language": "python",
   "name": "python3"
  },
  "language_info": {
   "codemirror_mode": {
    "name": "ipython",
    "version": 3
   },
   "file_extension": ".py",
   "mimetype": "text/x-python",
   "name": "python",
   "nbconvert_exporter": "python",
   "pygments_lexer": "ipython3",
   "version": "3.10.5"
  },
  "toc": {
   "base_numbering": 1,
   "nav_menu": {},
   "number_sections": true,
   "sideBar": true,
   "skip_h1_title": false,
   "title_cell": "Table of Contents",
   "title_sidebar": "Contents",
   "toc_cell": false,
   "toc_position": {},
   "toc_section_display": true,
   "toc_window_display": false
  }
 },
 "nbformat": 4,
 "nbformat_minor": 5
}
