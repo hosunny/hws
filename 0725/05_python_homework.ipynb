{
 "cells": [
  {
   "cell_type": "markdown",
   "id": "a6f653b5",
   "metadata": {},
   "source": [
    "# 1. 모음은 몇 개나 있을까?\n",
    "문자열을 전달 받아 해당 문자열의 모음 갯수를 반환하는 count_vowels 함수를\n",
    "작성하시오. .count() 메서드를 활용하여 작성하시오."
   ]
  },
  {
   "cell_type": "code",
   "execution_count": null,
   "id": "e0285256",
   "metadata": {},
   "outputs": [],
   "source": [
    "def count_vowels(word) :\n",
    "    cnt = 0\n",
    "    for j in range(len(word)) :\n",
    "        if word[j] == 'a' or word[j] == 'e' or word[j] == 'i' or word[j] == 'o' or word[j] == 'u' :\n",
    "            cnt += 1\n",
    "            \n",
    "    return cnt\n",
    "\n",
    "count_vowels('apple') "
   ]
  },
  {
   "cell_type": "markdown",
   "id": "23e26b2b",
   "metadata": {},
   "source": [
    "# 2. 문자열 조작\n",
    "다음 중, 문자열(string)을 조작하는 방법으로 옳지 않은 것을 고르시오."
   ]
  },
  {
   "cell_type": "code",
   "execution_count": null,
   "id": "333a73f7",
   "metadata": {},
   "outputs": [],
   "source": [
    "(1) .find(x)는 x의 첫번째 위치를 반환한다. 없으면 -1을 반환한다.\n",
    "(2) .split([chars])은 특정 문자를 지정하면 문자열을 특정 문자를\n",
    "기준으로 나누어 list로 반환한다. \n",
    "특정 문자를 지정하지 않으면 공백을 기준으로 나눈다.\n",
    "(3) .replace(old, new[, count])는 바꿀 대상 문자를 새로운 문자로\n",
    "바꿔서 반환한다.\n",
    "(4) .strip([chars])은 특정 문자를 지정하면, 양쪽에서 해당 문자를\n",
    "찾아 제거한다. 특정 문자를 지정하지 않으면 오류가 발생한다."
   ]
  },
  {
   "cell_type": "code",
   "execution_count": null,
   "id": "bfed4493",
   "metadata": {},
   "outputs": [],
   "source": [
    "(2)"
   ]
  },
  {
   "cell_type": "markdown",
   "id": "1d247458",
   "metadata": {},
   "source": [
    "# 3. 정사각형만 만들기\n",
    "각각 너비와 높이의 값으로 이루어진 2개의 list를 전달 받아, 각각의 값들을 조합하여\n",
    "만들 수 있는 정사각형만의 넓이를 담은 list를 반환하는 only_square_area 함수를\n",
    "작성하시오."
   ]
  },
  {
   "cell_type": "code",
   "execution_count": 4,
   "id": "5245c72d",
   "metadata": {},
   "outputs": [
    {
     "data": {
      "text/plain": [
       "[416, 1024, 1280, 1760, 715, 1760, 2200, 3025, 819, 2016, 2520, 3465]"
      ]
     },
     "execution_count": 4,
     "metadata": {},
     "output_type": "execute_result"
    }
   ],
   "source": [
    "def only_square_area(num_1, num_2) :\n",
    "    \n",
    "    lst = []\n",
    "    for i in num_1 :\n",
    "        for j in num_2 :\n",
    "            number = i * j\n",
    "            lst.append(number)\n",
    "            \n",
    "    return lst\n",
    "    \n",
    "\n",
    "only_square_area([32, 55, 63], [13, 32, 40, 55])"
   ]
  }
 ],
 "metadata": {
  "kernelspec": {
   "display_name": "Python 3 (ipykernel)",
   "language": "python",
   "name": "python3"
  },
  "language_info": {
   "codemirror_mode": {
    "name": "ipython",
    "version": 3
   },
   "file_extension": ".py",
   "mimetype": "text/x-python",
   "name": "python",
   "nbconvert_exporter": "python",
   "pygments_lexer": "ipython3",
   "version": "3.10.5"
  },
  "toc": {
   "base_numbering": 1,
   "nav_menu": {},
   "number_sections": true,
   "sideBar": true,
   "skip_h1_title": false,
   "title_cell": "Table of Contents",
   "title_sidebar": "Contents",
   "toc_cell": false,
   "toc_position": {},
   "toc_section_display": true,
   "toc_window_display": false
  }
 },
 "nbformat": 4,
 "nbformat_minor": 5
}
