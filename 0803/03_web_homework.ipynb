{
 "cells": [
  {
   "cell_type": "markdown",
   "id": "aa83b7f4",
   "metadata": {},
   "source": [
    "# ❖ Bootstrap\n",
    "부트스트랩 공식 문서의 Component를 활용하여 물음에 답하시오.\n",
    "1) 각 문항에 제시된 이미지는 현재 lab.ssafy.com에서 사용중인 components이다.\n",
    "제시된 요소에 사용된 Bootstrap Component 를 참고하여 빈칸을 작성하시오\n",
    "2) 각 문항에 제시된 코드는 예시를 위한 코드 일부분이다. 필요에 따라 HTML 보일러\n",
    "템플렛을 만들고 Bootstrap CDN(CSS/Javascript)을 삽입한 후 코드를 작성하시오."
   ]
  },
  {
   "cell_type": "markdown",
   "id": "7c147997",
   "metadata": {},
   "source": [
    "## 1. Button 만들기\n",
    "아래 Button을 만들기 위해 (a), (b)에 들어갈 알맞은 Components를 작성하시오."
   ]
  },
  {
   "cell_type": "markdown",
   "id": "76329982",
   "metadata": {},
   "source": [
    "<button type=\"submit\" class=\" \" (a) (b) >Submit</button>"
   ]
  },
  {
   "cell_type": "code",
   "execution_count": null,
   "id": "318fd747",
   "metadata": {},
   "outputs": [],
   "source": [
    "btn\n",
    "btn-primary"
   ]
  },
  {
   "cell_type": "markdown",
   "id": "bc9aa779",
   "metadata": {},
   "source": [
    "## 2. Navbar 만들기\n",
    "아래 Navbar을 만들기 위해 (a), (b), (c)에 들어갈 알맞은 Components를 작성하시오"
   ]
  },
  {
   "cell_type": "markdown",
   "id": "ffc408b9",
   "metadata": {},
   "source": [
    "-\n",
    "light\n",
    "navbar-nav me-auto mb-2 mb-lg-0\n",
    "navbarBreakfast"
   ]
  },
  {
   "cell_type": "markdown",
   "id": "f2a95978",
   "metadata": {},
   "source": [
    "## 3. Pagination 만들기\n",
    "아래 Pagination을 만들기 위해 (a), (b), (c)에 들어갈 알맞은 Components를 작성하시오."
   ]
  },
  {
   "cell_type": "code",
   "execution_count": null,
   "id": "62e3f4d6",
   "metadata": {},
   "outputs": [],
   "source": [
    "pagination\n",
    "disabled\n",
    "active"
   ]
  }
 ],
 "metadata": {
  "kernelspec": {
   "display_name": "Python 3 (ipykernel)",
   "language": "python",
   "name": "python3"
  },
  "language_info": {
   "codemirror_mode": {
    "name": "ipython",
    "version": 3
   },
   "file_extension": ".py",
   "mimetype": "text/x-python",
   "name": "python",
   "nbconvert_exporter": "python",
   "pygments_lexer": "ipython3",
   "version": "3.9.13"
  }
 },
 "nbformat": 4,
 "nbformat_minor": 5
}
