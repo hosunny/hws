{
 "cells": [
  {
   "cell_type": "markdown",
   "id": "61b1f831",
   "metadata": {},
   "source": [
    "# 1. CSS flex-direction\n",
    "Flex box의 주축을 변경하는 flex-direction의 4가지 값과 각각의 특징을 작성하시오.\n"
   ]
  },
  {
   "cell_type": "code",
   "execution_count": null,
   "id": "92cb225e",
   "metadata": {},
   "outputs": [],
   "source": [
    "row : 좌로 정렬\n",
    "row-reversed : 좌로 정렬 거꾸로\n",
    "column : 아래로 정렬\n",
    "column-reverse : 아래로 정렬 거꾸로"
   ]
  },
  {
   "cell_type": "markdown",
   "id": "5353fe48",
   "metadata": {},
   "source": [
    "# 2. Bootstrap flex-direction\n",
    "flex-direction의 4가지 요소와 대응하는 bootstrap 클래스를 작성하시오."
   ]
  },
  {
   "cell_type": "code",
   "execution_count": null,
   "id": "0bec5c3d",
   "metadata": {},
   "outputs": [],
   "source": [
    "d-flex\n",
    "flex-row\n",
    "flex-row-reversed\n",
    "flex-column\n",
    "flex-column-reverse"
   ]
  },
  {
   "cell_type": "markdown",
   "id": "143a650e",
   "metadata": {},
   "source": [
    "# 3. align-items\n",
    "align-items 속성의 4가지 값과 각각의 특징을 작성하시오."
   ]
  },
  {
   "cell_type": "code",
   "execution_count": null,
   "id": "928345ad",
   "metadata": {},
   "outputs": [],
   "source": [
    "flex-start : 왼쪽 정렬\n",
    "flex-end : 오른쪽 정렬\n",
    "center : 중앙 정렬\n",
    "baseline : 기준선 자리 정렬\n",
    "    "
   ]
  },
  {
   "cell_type": "markdown",
   "id": "a822aaba",
   "metadata": {},
   "source": [
    "# 4. flex-flow\n",
    "flex-flow 속성은 두가지 속성의 축약형이다. 올바르게 짝지어진 것을 고르시오."
   ]
  },
  {
   "cell_type": "markdown",
   "id": "752c2d0f",
   "metadata": {},
   "source": [
    "(1) flex-direction, flex-wrap\n",
    "\n",
    "(2) flex-direction, align-items\n",
    "\n",
    "(3) justify-content, flex-wrap\n",
    "\n",
    "(4) justify-content, align-items"
   ]
  },
  {
   "cell_type": "code",
   "execution_count": null,
   "id": "d4effc63",
   "metadata": {},
   "outputs": [],
   "source": [
    "(1)"
   ]
  },
  {
   "cell_type": "markdown",
   "id": "eb6aafe1",
   "metadata": {},
   "source": [
    "# 5. Bootstrap Grid System\n",
    "상단 코드에 Bootstrap Grid System을 적용시키고자한다.\n",
    "(a), (b) 각각에 입력해야 할 클래스 이름을 작성하시오."
   ]
  },
  {
   "cell_type": "code",
   "execution_count": null,
   "id": "e4da0fd4",
   "metadata": {},
   "outputs": [],
   "source": [
    "(a) container\n",
    "(b) row"
   ]
  },
  {
   "cell_type": "markdown",
   "id": "e39902c7",
   "metadata": {},
   "source": [
    "# 6. Breakpoint prefix (5번 문제 연계)\n",
    "Bootstrap Grid System에서 요소의 크기를 지정하기 위해서는 상단 코드와 같은 형태로\n",
    "클래스 이름을 지정해야 한다. \n",
    "1) (c) 에 들어갈 수 있는 값들과 그 값들이 가지는 의미를 작성하시오. \n",
    "2) (d) 에 들어갈 수 있는 값들과 그 값들이 가지는 의미를 작성하시오."
   ]
  },
  {
   "cell_type": "code",
   "execution_count": null,
   "id": "2819fa05",
   "metadata": {},
   "outputs": [],
   "source": [
    "sm\n",
    "md\n",
    "lg\n",
    "xl\n",
    "xxl\n",
    "크기\n",
    "\n",
    "숫자 화면의 크기가 size 이상일 경우 row 칸을 차지하는 갯수"
   ]
  }
 ],
 "metadata": {
  "kernelspec": {
   "display_name": "Python 3 (ipykernel)",
   "language": "python",
   "name": "python3"
  },
  "language_info": {
   "codemirror_mode": {
    "name": "ipython",
    "version": 3
   },
   "file_extension": ".py",
   "mimetype": "text/x-python",
   "name": "python",
   "nbconvert_exporter": "python",
   "pygments_lexer": "ipython3",
   "version": "3.9.13"
  }
 },
 "nbformat": 4,
 "nbformat_minor": 5
}
