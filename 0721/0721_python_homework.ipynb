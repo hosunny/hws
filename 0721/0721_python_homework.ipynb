{
 "cells": [
  {
   "cell_type": "markdown",
   "id": "3dc61f0a",
   "metadata": {},
   "source": [
    "# 1. 위치 인자와 키워드 인자\n",
    "다음과 같이 함수가 선언되어 있을 때, 보기 (1)~(4) 중에서 실행 시\n",
    "오류가 발생하는 코드를 고르시오.\n"
   ]
  },
  {
   "cell_type": "code",
   "execution_count": null,
   "id": "70b8e98c",
   "metadata": {},
   "outputs": [],
   "source": [
    "def ssafy(name, location='서울’):\n",
    "print(f'{name}의 지역은 {location}입니다.')\n",
    "          \n",
    "# (1)\n",
    "ssafy(＇가흔')\n",
    "# (2)\n",
    "ssafy(location=＇부울경', name=＇승현')\n",
    "# (3)\n",
    "ssafy(＇지우', location='서울')\n",
    "# (4)\n",
    "ssafy(name=＇승호’, ‘광주')"
   ]
  },
  {
   "cell_type": "code",
   "execution_count": null,
   "id": "33d4e38f",
   "metadata": {},
   "outputs": [],
   "source": [
    "(4)"
   ]
  },
  {
   "cell_type": "markdown",
   "id": "a9c497a2",
   "metadata": {},
   "source": [
    "# 2. 가변 인자 리스트\n",
    "가변 인자 리스트를 사용하여, 개수가 정해지지 않은 여러 정수들을 전달 받아\n",
    "해당 정수들의 평균 값을 반환하는 my_avg 함수를 작성하시오\n"
   ]
  },
  {
   "cell_type": "code",
   "execution_count": 13,
   "id": "52337b27",
   "metadata": {},
   "outputs": [
    {
     "name": "stdout",
     "output_type": "stream",
     "text": [
      "enter num: 3 5 7\n"
     ]
    },
    {
     "data": {
      "text/plain": [
       "15.0"
      ]
     },
     "execution_count": 13,
     "metadata": {},
     "output_type": "execute_result"
    }
   ],
   "source": [
    "\n",
    "def my_avg(*arg) :\n",
    "    total = 0\n",
    "    for i in arg[0] :\n",
    "        total += i\n",
    "             \n",
    "    return (total/len(arg))\n",
    "\n",
    "num = list(map(int, input(\"enter num: \").split()))\n",
    "my_avg(num)"
   ]
  },
  {
   "cell_type": "markdown",
   "id": "a4ce87dd",
   "metadata": {},
   "source": [
    "# 3. 반환값\n",
    "다음과 같이 함수를 선언하고 호출하였을 때, 변수 result에 저장된 값과\n",
    "그 값이 나온 이유를 작성하시"
   ]
  },
  {
   "cell_type": "code",
   "execution_count": null,
   "id": "66d294be",
   "metadata": {},
   "outputs": [],
   "source": [
    "def my_func(a, b):\n",
    "c = a + b\n",
    "print(c)\n",
    "result = my_func(3, 7)"
   ]
  },
  {
   "cell_type": "code",
   "execution_count": null,
   "id": "75f9f9e4",
   "metadata": {},
   "outputs": [],
   "source": [
    "none, 함수 my_func(a, b)에 return 값이 없다."
   ]
  },
  {
   "cell_type": "markdown",
   "id": "36a30b89",
   "metadata": {},
   "source": [
    "# 4. 이름 공간(Namespace)\n",
    "Python에서 변수를 찾을 때 접근하는 이름 공간을 순서대로 작성하시오.\n"
   ]
  },
  {
   "cell_type": "code",
   "execution_count": null,
   "id": "0678a147",
   "metadata": {},
   "outputs": [],
   "source": [
    "Local scope\n",
    "enclosed scope\n",
    "Global scope\n",
    "built-in scope"
   ]
  },
  {
   "cell_type": "markdown",
   "id": "df496e3f",
   "metadata": {},
   "source": [
    "# 5. 매개변수와 인자, 그리고 반환\n",
    "아래의 보기 (1) ~ (4) 중에서, 옳지 않은 것을 고르시오.\n"
   ]
  },
  {
   "cell_type": "code",
   "execution_count": null,
   "id": "e31fa58e",
   "metadata": {},
   "outputs": [],
   "source": [
    "(1) 함수는 오직 하나의 객체만 반환할 수 있으므로\n",
    "'return a, b＇와 같이 쓸 수 없다.\n",
    "(2) 함수에서 return을 작성하지 않으면 None 값을 반환한다.\n",
    "(3) 함수의 매개변수(parameter)는 함수를 선언할 때 설정한 값이며,\n",
    "전달 인자(argument)는 함수를 호출할 때 넘겨주는 값이다.\n",
    "(4) 가변 인자를 설정할 때는 함수 선언 시 매개변수 앞에 * 을 붙이고, \n",
    "이 때는 함수내에서 tuple로 처리 된다"
   ]
  },
  {
   "cell_type": "code",
   "execution_count": null,
   "id": "fecce526",
   "metadata": {},
   "outputs": [],
   "source": [
    "(1)"
   ]
  },
  {
   "cell_type": "markdown",
   "id": "dc416d39",
   "metadata": {},
   "source": [
    "# 6. 재귀 함수\n",
    "재귀 함수를 사용했을 때 얻을 수 있는 장점과 단점을 반복문과 비교하여 작성하시오."
   ]
  },
  {
   "cell_type": "code",
   "execution_count": null,
   "id": "d6aa66f3",
   "metadata": {},
   "outputs": [],
   "source": [
    "재귀 함수는 자기 자신을 호출하는 함수로서\n",
    "반복문에 비해 변수 사용이 줄어드는 장점이 있지만\n",
    "입력 값이 커질수록 연산 시간이 증가한다는 단점이 있다"
   ]
  }
 ],
 "metadata": {
  "kernelspec": {
   "display_name": "Python 3 (ipykernel)",
   "language": "python",
   "name": "python3"
  },
  "language_info": {
   "codemirror_mode": {
    "name": "ipython",
    "version": 3
   },
   "file_extension": ".py",
   "mimetype": "text/x-python",
   "name": "python",
   "nbconvert_exporter": "python",
   "pygments_lexer": "ipython3",
   "version": "3.10.5"
  },
  "toc": {
   "base_numbering": 1,
   "nav_menu": {},
   "number_sections": true,
   "sideBar": true,
   "skip_h1_title": false,
   "title_cell": "Table of Contents",
   "title_sidebar": "Contents",
   "toc_cell": false,
   "toc_position": {},
   "toc_section_display": true,
   "toc_window_display": false
  }
 },
 "nbformat": 4,
 "nbformat_minor": 5
}
