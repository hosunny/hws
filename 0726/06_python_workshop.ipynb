{
 "cells": [
  {
   "cell_type": "markdown",
   "id": "80841102",
   "metadata": {},
   "source": [
    "# 1. 무엇이 중복일까\n",
    "문자열을 전달 받아 해당 문자열에서 중복해서 나타난 문자들을 담은 list를 반환하는\n",
    "duplicated_letters 함수를 작성하시오"
   ]
  },
  {
   "cell_type": "code",
   "execution_count": 40,
   "id": "4e8588e6",
   "metadata": {},
   "outputs": [
    {
     "data": {
      "text/plain": [
       "['p']"
      ]
     },
     "execution_count": 40,
     "metadata": {},
     "output_type": "execute_result"
    }
   ],
   "source": [
    "def duplicated_letters(word) :\n",
    "    lst = []\n",
    "    lst_2 = []\n",
    "    for i in word:\n",
    "        if i not in lst:\n",
    "            lst.append(i)\n",
    "        else :\n",
    "            lst_2.append(i)\n",
    "\n",
    "        \n",
    "    return lst_2\n",
    "            \n",
    "\n",
    "\n",
    "\n",
    "duplicated_letters('apple')"
   ]
  },
  {
   "cell_type": "markdown",
   "id": "babb394f",
   "metadata": {},
   "source": [
    "# 2. 소대소대\n",
    "문자열을 전달 받아 해당 문자열을 소문자와 대문자가 번갈아 나타나도록 변환하여\n",
    "반환하는 low_and_up 함수를 작성하시오. \n",
    "이때, 전달 받는 문자열은 알파벳으로만 구성된다"
   ]
  },
  {
   "cell_type": "code",
   "execution_count": 14,
   "id": "49f4c9ec",
   "metadata": {},
   "outputs": [
    {
     "data": {
      "text/plain": [
       "'aPpLe'"
      ]
     },
     "execution_count": 14,
     "metadata": {},
     "output_type": "execute_result"
    }
   ],
   "source": [
    "def low_and_up(word) :\n",
    "    \n",
    "    new = ''\n",
    "    for i in range(len(word)) :\n",
    "        if i % 2 == 0 :\n",
    "            new += word[i].lower()\n",
    "        else :\n",
    "            new += word[i].upper()\n",
    "            \n",
    "    return new\n",
    "\n",
    "\n",
    "\n",
    "low_and_up('apple') "
   ]
  },
  {
   "cell_type": "markdown",
   "id": "f3109a41",
   "metadata": {},
   "source": [
    "# 3. 솔로 천국 만들기\n",
    "정수 0부터 9까지로 이루어진 list를 전달 받아, 연속적으로 나타나는 숫자는 하나만 남\n",
    "기고 제거한 list를 반환하는 lonely 함수를 작성하시오. \n",
    "이때, 제거된 후 남은 수들이 담긴 list의 요소들은 기존의 순서를 유지해야 한다"
   ]
  },
  {
   "cell_type": "code",
   "execution_count": 23,
   "id": "ef10e1cf",
   "metadata": {},
   "outputs": [
    {
     "data": {
      "text/plain": [
       "[1, 3, 0, 1]"
      ]
     },
     "execution_count": 23,
     "metadata": {},
     "output_type": "execute_result"
    }
   ],
   "source": [
    "def lonely(lst):\n",
    "    ans = []\n",
    "\n",
    "    for i in range(len(lst) - 1):\n",
    "        \n",
    "        if lst[i] != lst[i + 1] :\n",
    "            ans.append(lst[i])\n",
    "            \n",
    "    ans.append(lst[-1])\n",
    "                   \n",
    "    return ans\n",
    "                   \n",
    "\n",
    "\n",
    "lonely([1, 1, 3, 3, 0, 1, 1])"
   ]
  },
  {
   "cell_type": "code",
   "execution_count": null,
   "id": "99c39d0b",
   "metadata": {},
   "outputs": [],
   "source": []
  }
 ],
 "metadata": {
  "kernelspec": {
   "display_name": "Python 3 (ipykernel)",
   "language": "python",
   "name": "python3"
  },
  "language_info": {
   "codemirror_mode": {
    "name": "ipython",
    "version": 3
   },
   "file_extension": ".py",
   "mimetype": "text/x-python",
   "name": "python",
   "nbconvert_exporter": "python",
   "pygments_lexer": "ipython3",
   "version": "3.9.13"
  }
 },
 "nbformat": 4,
 "nbformat_minor": 5
}
