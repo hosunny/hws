{
 "cells": [
  {
   "cell_type": "markdown",
   "id": "3464024b",
   "metadata": {},
   "source": [
    "# 1. Built-in 함수와 메서드\n",
    "sorted()와 .sort()의 차이점을 코드의 실행 결과를 활용하여 설명하시오"
   ]
  },
  {
   "cell_type": "code",
   "execution_count": 7,
   "id": "3836e4fa",
   "metadata": {},
   "outputs": [
    {
     "name": "stdout",
     "output_type": "stream",
     "text": [
      "[1, 2, 3] None\n",
      "\n",
      "[3, 2, 1] [1, 2, 3]\n"
     ]
    }
   ],
   "source": [
    "num = [3, 2, 1]\n",
    "number = num.sort()\n",
    "\n",
    "print(num, number) #  원본이 변경됨\n",
    "\n",
    "print() # 줄 띄움\n",
    "\n",
    "num_2 = [3, 2, 1]\n",
    "number_2 = sorted(num_2)\n",
    "\n",
    "print(num_2, number_2) # 원본은 그대로, 새로운 값 출력"
   ]
  },
  {
   "cell_type": "markdown",
   "id": "5b7fd104",
   "metadata": {},
   "source": [
    "# 2. .extend()와 .append()\n",
    ".extend()와 .append()의 차이점을 코드의 실행 결과를 활용하여 설명하시오"
   ]
  },
  {
   "cell_type": "code",
   "execution_count": 10,
   "id": "0eac7d7f",
   "metadata": {},
   "outputs": [
    {
     "name": "stdout",
     "output_type": "stream",
     "text": [
      "['후라이드치킨', '양념치킨', '간장치킨', '숯불치킨']\n",
      "\n",
      "['후라이드치킨', '양념치킨', '간장치킨', '숯', '불', '치', '킨']\n"
     ]
    }
   ],
   "source": [
    "menu = ['후라이드치킨', '양념치킨', '간장치킨']\n",
    "menu.append('숯불치킨')\n",
    "\n",
    "print(menu) # 리스트에 문자열 추가\n",
    "\n",
    "print()\n",
    "\n",
    "menus = ['후라이드치킨', '양념치킨', '간장치킨']\n",
    "menus.extend('숯불치킨')\n",
    "\n",
    "print(menus) # 리스트에 문자열의 항목 추가"
   ]
  },
  {
   "cell_type": "markdown",
   "id": "a4dbb4ab",
   "metadata": {},
   "source": [
    "# 3. 복사가 잘 된 건가?\n",
    "아래의 코드를 실행 하였을 때, 변수 a와 b에 담긴 list의 요소가 같은지 혹은 다른지\n",
    "여부를 판단하고 그 이유를 작성하시오"
   ]
  },
  {
   "cell_type": "code",
   "execution_count": 12,
   "id": "b209ddb0",
   "metadata": {},
   "outputs": [
    {
     "name": "stdout",
     "output_type": "stream",
     "text": [
      "[1, 2, 5, 4, 5]\n",
      "[1, 2, 5, 4, 5]\n"
     ]
    }
   ],
   "source": [
    "a = [1, 2, 3, 4, 5]\n",
    "b = a\n",
    "a[2] = 5\n",
    "print(a)\n",
    "print(b)"
   ]
  },
  {
   "cell_type": "code",
   "execution_count": null,
   "id": "f6945fcc",
   "metadata": {},
   "outputs": [],
   "source": [
    "같다. a의 항목이 바뀌면 b도 따라서 바뀌기 때문."
   ]
  }
 ],
 "metadata": {
  "kernelspec": {
   "display_name": "Python 3 (ipykernel)",
   "language": "python",
   "name": "python3"
  },
  "language_info": {
   "codemirror_mode": {
    "name": "ipython",
    "version": 3
   },
   "file_extension": ".py",
   "mimetype": "text/x-python",
   "name": "python",
   "nbconvert_exporter": "python",
   "pygments_lexer": "ipython3",
   "version": "3.9.13"
  }
 },
 "nbformat": 4,
 "nbformat_minor": 5
}
