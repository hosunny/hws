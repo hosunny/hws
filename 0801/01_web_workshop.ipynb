{
 "cells": [
  {
   "cell_type": "markdown",
   "id": "e7ee7ee1",
   "metadata": {},
   "source": [
    "# 1. ```<img>``` tag\n",
    "<그림1>과 같은 폴더 구조가 있다. resume.html에서 코드를 작성 중일 때, \n",
    "image 폴더 안의 my_ssafy.png를 보여주는 <img> tag를 작성하시오. \n",
    "단, 이미지가 제대로 출력되지 않을 때는 ssafy 문자열이 출력 되도록 작성하시오."
   ]
  },
  {
   "cell_type": "code",
   "execution_count": null,
   "id": "20db16b6",
   "metadata": {},
   "outputs": [],
   "source": []
  },
  {
   "cell_type": "markdown",
   "id": "b56dea85",
   "metadata": {},
   "source": [
    "# 2. 파일 경로\n",
    "위와 같이 경로를 (a)로 작성 할 시, github에 업로드 하거나 전체 폴더의 위치가\n",
    "변경 되었을 때 이미지를 불러 올 수 없게 된다. \n",
    "이를 해결 하려면 이미지 경로를 (b)로 바꾸어 작성하면 된다. \n",
    "(a)와 (b)에 들어갈 경로를 작성하시오."
   ]
  },
  {
   "cell_type": "code",
   "execution_count": null,
   "id": "ca0337d4",
   "metadata": {},
   "outputs": [],
   "source": []
  },
  {
   "cell_type": "markdown",
   "id": "89f3626e",
   "metadata": {},
   "source": [
    "# 3. Hyper Link (1, 2번 문제 연계)\n",
    "출력된 my_ssafy.png 이미지를 클릭하면 ssafy.com으로 이동하도록 코드를 수정하시오."
   ]
  },
  {
   "cell_type": "code",
   "execution_count": null,
   "id": "c971941c",
   "metadata": {},
   "outputs": [],
   "source": []
  },
  {
   "cell_type": "markdown",
   "id": "ecf90c7d",
   "metadata": {},
   "source": [
    "# 4. 선택자\n",
    "1) 아래의 코드를 작성하고 결과를 확인 하시오."
   ]
  },
  {
   "cell_type": "markdown",
   "id": "79359f15",
   "metadata": {},
   "source": [
    "<div id=\"ssafy\">\n",
    "<h2>어떻게 선택 될까?</h2>\n",
    "<p>첫번째 단락</p>\n",
    "<p>두번째 단락</p>\n",
    "<p>세번째 단락</p>\n",
    "<p>네번째 단락</p>\n",
    "</div>"
   ]
  },
  {
   "cell_type": "code",
   "execution_count": null,
   "id": "e3ea2a2a",
   "metadata": {},
   "outputs": [],
   "source": [
    "#ssafy > p:nth-child(2){\n",
    "color: red;\n",
    "}"
   ]
  },
  {
   "cell_type": "code",
   "execution_count": null,
   "id": "13987175",
   "metadata": {},
   "outputs": [],
   "source": []
  },
  {
   "cell_type": "markdown",
   "id": "1c079cb1",
   "metadata": {},
   "source": [
    "2) nth-child를 nth-of-type으로 변경하고 결과를 확인 하시오."
   ]
  },
  {
   "cell_type": "code",
   "execution_count": null,
   "id": "04a5da22",
   "metadata": {},
   "outputs": [],
   "source": [
    "#ssafy > p:nth-of-type (2){\n",
    "color: blue;\n",
    "}"
   ]
  },
  {
   "cell_type": "code",
   "execution_count": null,
   "id": "be66c052",
   "metadata": {},
   "outputs": [],
   "source": []
  },
  {
   "cell_type": "markdown",
   "id": "2ce3b57d",
   "metadata": {},
   "source": [
    "3) 작성한 코드를 참고하여 nth-child()와 nth-of-type()의 차이점을 작성하시오"
   ]
  },
  {
   "cell_type": "code",
   "execution_count": null,
   "id": "f0b8d03b",
   "metadata": {},
   "outputs": [],
   "source": []
  }
 ],
 "metadata": {
  "kernelspec": {
   "display_name": "Python 3 (ipykernel)",
   "language": "python",
   "name": "python3"
  },
  "language_info": {
   "codemirror_mode": {
    "name": "ipython",
    "version": 3
   },
   "file_extension": ".py",
   "mimetype": "text/x-python",
   "name": "python",
   "nbconvert_exporter": "python",
   "pygments_lexer": "ipython3",
   "version": "3.9.13"
  }
 },
 "nbformat": 4,
 "nbformat_minor": 5
}
