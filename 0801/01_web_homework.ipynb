{
 "cells": [
  {
   "cell_type": "markdown",
   "id": "3159f4b4",
   "metadata": {},
   "source": [
    "# 1. HTML 정의\n",
    "아래의 보기 (1) ~ (4) 중에서, HTML의 본딧말을 고르시오. "
   ]
  },
  {
   "cell_type": "markdown",
   "id": "0c5aa1df",
   "metadata": {},
   "source": [
    "(1) Hyperlinks and Text Markup Language\n",
    "\n",
    "(2) Home Tool Markup Language\n",
    "\n",
    "(3) Hyper Text Markup Language\n",
    "\n",
    "(4) Hyper Tool Markup Language"
   ]
  },
  {
   "cell_type": "code",
   "execution_count": null,
   "id": "f5e714cc",
   "metadata": {},
   "outputs": [],
   "source": [
    "(3)"
   ]
  },
  {
   "cell_type": "markdown",
   "id": "4cccb027",
   "metadata": {},
   "source": [
    "# 2. HTML 개념\n",
    "각 문항을 읽고 맞으면 T, 틀리면 F를 작성 하시오."
   ]
  },
  {
   "cell_type": "markdown",
   "id": "d468d616",
   "metadata": {},
   "source": [
    "1) 웹 표준을 만드는 곳은 Mozilla 재단이다.\n",
    "\n",
    "2) 표(table) 을 만들 때에는 반드시 <th> 태그를 사용해야 한다.\n",
    "\n",
    "3) 제목(Heading) 태그는 제목 이외에는 사용하지 않는 것이 좋다.\n",
    "\n",
    "4) 리스트를 나열하기 위해서는 <ul> 태그만 사용 할 수 있다.\n",
    "    \n",
    "5) HTML의 태그는 반드시 별도의 닫는 태그가 필요하다"
   ]
  },
  {
   "cell_type": "code",
   "execution_count": null,
   "id": "a1707dfb",
   "metadata": {},
   "outputs": [],
   "source": [
    "F\n",
    "F\n",
    "T\n",
    "F\n",
    "T"
   ]
  },
  {
   "cell_type": "markdown",
   "id": "a7f3c584",
   "metadata": {},
   "source": [
    "# 3. CSS 정의\n",
    "아래의 보기 (1) ~ (4) 중에서, CSS의 본딧말을 고르시오. "
   ]
  },
  {
   "cell_type": "markdown",
   "id": "bafedd09",
   "metadata": {},
   "source": [
    "(1) Creative Style Sheets\n",
    "\n",
    "(2) Cascading Style Sheets\n",
    "\n",
    "(3) Computer Style Sheets\n",
    "\n",
    "(4) Colorful Style Sheets"
   ]
  },
  {
   "cell_type": "code",
   "execution_count": null,
   "id": "d1b2e899",
   "metadata": {},
   "outputs": [],
   "source": [
    "(2)"
   ]
  },
  {
   "cell_type": "markdown",
   "id": "dffd9f28",
   "metadata": {},
   "source": [
    "# 4. CSS 개념\n",
    "각 문항을 읽고 맞으면 T, 틀리면 F를 작성 하시오."
   ]
  },
  {
   "cell_type": "markdown",
   "id": "f8f7d0fb",
   "metadata": {},
   "source": [
    "1) HTML과 CSS는 각자 문법을 갖는 별개의 언어이다.\n",
    "\n",
    "2) 웹 브라우저는 내장 기본 스타일이 있어 CSS가 없어도 작동한다.\n",
    "\n",
    "3) 자식 요소 프로퍼티는 부모의 프로퍼티를 모두 상속 받는다.\n",
    "\n",
    "4) 디바이스마다 화면의 크기가 다른 것을 고려하여 상대 단위인 %를 사용한다.\n",
    "\n",
    "5) id 값은 유일해야 하므로 중복되어서는 안된다"
   ]
  },
  {
   "cell_type": "code",
   "execution_count": null,
   "id": "5243db79",
   "metadata": {},
   "outputs": [],
   "source": [
    "T\n",
    "T\n",
    "F\n",
    "F\n",
    "T"
   ]
  },
  {
   "cell_type": "markdown",
   "id": "2633e041",
   "metadata": {},
   "source": [
    "# 5. CSS 우선순위\n",
    "CSS는 우선 적용되는 순서가 존재 한다. 우선순위가 높은 순으로 나열 하시오."
   ]
  },
  {
   "cell_type": "markdown",
   "id": "8f6bdd0d",
   "metadata": {},
   "source": [
    "요소 선택자, Inline Style, 소스 순서,\n",
    "!important, id 선택자, class 선택자"
   ]
  },
  {
   "cell_type": "code",
   "execution_count": null,
   "id": "4dee8115",
   "metadata": {},
   "outputs": [],
   "source": [
    "!important,Inline Style,id 선택자,class 선택자,요소 선택자,소스 순서"
   ]
  }
 ],
 "metadata": {
  "kernelspec": {
   "display_name": "Python 3 (ipykernel)",
   "language": "python",
   "name": "python3"
  },
  "language_info": {
   "codemirror_mode": {
    "name": "ipython",
    "version": 3
   },
   "file_extension": ".py",
   "mimetype": "text/x-python",
   "name": "python",
   "nbconvert_exporter": "python",
   "pygments_lexer": "ipython3",
   "version": "3.9.13"
  }
 },
 "nbformat": 4,
 "nbformat_minor": 5
}
