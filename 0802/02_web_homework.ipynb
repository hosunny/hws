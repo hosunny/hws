{
 "cells": [
  {
   "cell_type": "markdown",
   "id": "587bb8d7",
   "metadata": {},
   "source": [
    "# 1. Semantic Tag\n",
    "보기 중 콘텐츠의 의미를 명확히 하기 위해 HTML5에서 새롭게 추가된\n",
    "시맨틱(semantic) 태그를 모두 고르시오."
   ]
  },
  {
   "cell_type": "markdown",
   "id": "116f32dd",
   "metadata": {},
   "source": [
    "div, header, h1, section, footer, a, form, span"
   ]
  },
  {
   "cell_type": "code",
   "execution_count": null,
   "id": "e1150e0d",
   "metadata": {},
   "outputs": [],
   "source": [
    "header, section, footer"
   ]
  },
  {
   "cell_type": "markdown",
   "id": "3e34dabb",
   "metadata": {},
   "source": [
    "# 2. input Tag\n",
    "아래 이미지와 같이 로그인 Form을 생성하는 HTML코드를 작성하시오. \n",
    "단, USERNAME 글자를 클릭하면 아이디를 입력하는 input에,\n",
    "PWD 글자를 클릭하면 비밀번호를 입력하는 input에 focusing 되도록 하시오."
   ]
  },
  {
   "cell_type": "code",
   "execution_count": null,
   "id": "751587f0",
   "metadata": {},
   "outputs": [],
   "source": [
    "<!DOCTYPE html>\n",
    "<html lang=\"en\">\n",
    "<head>\n",
    "    <meta charset=\"UTF-8\">\n",
    "    <meta http-equiv=\"X-UA-Compatible\" content=\"IE=edge\">\n",
    "    <meta name=\"viewport\" content=\"width=device-width, initial-scale=1.0\">\n",
    "    <title>Document</title>\n",
    "</head>\n",
    "<body>\n",
    "    <form>\n",
    "        <label for=\"username\">USERNAME: </label>\n",
    "        <input type=\"text\" id=\"username\" placeholder=\"아이디를 입력해주세요. \" name=\"x\"><br>\n",
    "        <label for=\"pwd\">PWD: </label>    \n",
    "        <input type=\"text\" id=\"pwd\" name=\"y\">\n",
    "        <input type=\"submit\" value=\"로그인\">\n",
    "\n",
    "    </form>\n",
    "    \n",
    "</body>\n",
    "</html>"
   ]
  },
  {
   "cell_type": "markdown",
   "id": "b3acd67d",
   "metadata": {},
   "source": [
    "# 3. 크기 단위\n",
    "크기 단위 em은 요소에 지정된 상속된 사이즈나 기본 사이즈에 대해 상대적인 사이즈를\n",
    "설정한다. 즉, 상속의 영향으로 사이즈가 의도치 않게 변경될 수 있는데 이를 예방하기\n",
    "위해 HTML 최상위 요소의 사이즈를 기준으로 삼는 크기 단위는 무엇인가?"
   ]
  },
  {
   "cell_type": "code",
   "execution_count": null,
   "id": "59e2ea7c",
   "metadata": {},
   "outputs": [],
   "source": [
    "rem"
   ]
  },
  {
   "cell_type": "markdown",
   "id": "cbe322f0",
   "metadata": {},
   "source": [
    "# 4. 선택자\n",
    "다음 예제를 통해 ‘자손 결합자’와 ‘자식 결합자’의 차이를 설명하시오."
   ]
  },
  {
   "cell_type": "code",
   "execution_count": null,
   "id": "c3cbd66a",
   "metadata": {},
   "outputs": [],
   "source": [
    "* 자손 결합자 */\n",
    "div p {\n",
    "color: crimson;\n",
    "}\n",
    "/* 자식 결합자 */\n",
    "div > p {\n",
    "color: crimson;\n",
    "}"
   ]
  },
  {
   "cell_type": "code",
   "execution_count": null,
   "id": "941af57d",
   "metadata": {},
   "outputs": [],
   "source": [
    "자식 결합자는 부모와 바로 붙어있는 원소만 적용\n",
    "자손 결합자는 부모 밑의 모든 원소에 적용"
   ]
  }
 ],
 "metadata": {
  "kernelspec": {
   "display_name": "Python 3 (ipykernel)",
   "language": "python",
   "name": "python3"
  },
  "language_info": {
   "codemirror_mode": {
    "name": "ipython",
    "version": 3
   },
   "file_extension": ".py",
   "mimetype": "text/x-python",
   "name": "python",
   "nbconvert_exporter": "python",
   "pygments_lexer": "ipython3",
   "version": "3.9.13"
  }
 },
 "nbformat": 4,
 "nbformat_minor": 5
}
