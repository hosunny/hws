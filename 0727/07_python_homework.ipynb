{
 "cells": [
  {
   "cell_type": "markdown",
   "id": "c1a7043c",
   "metadata": {},
   "source": [
    "# 1. Type Class\n",
    "Python은 객체 지향 프로그래밍 언어이다. Python에서 기본적으로 정의되어 있는\n",
    "클래스를 최소 5가지 이상 작성하시오."
   ]
  },
  {
   "cell_type": "code",
   "execution_count": null,
   "id": "9cb5fcc2",
   "metadata": {},
   "outputs": [],
   "source": [
    "int()\n",
    "list()\n",
    "string()\n",
    "dictionery()\n",
    "set()"
   ]
  },
  {
   "cell_type": "markdown",
   "id": "8c87c92e",
   "metadata": {},
   "source": [
    "# 2. Magic Method\n",
    "아래에 제시된 매직 메서드들이 각각 어떠한 역할을 하는지 간단하게 작성하시오.\n"
   ]
  },
  {
   "cell_type": "code",
   "execution_count": null,
   "id": "75a5b416",
   "metadata": {},
   "outputs": [],
   "source": [
    "__init__, __del__, __str__, __repr__"
   ]
  },
  {
   "cell_type": "code",
   "execution_count": null,
   "id": "3e4fa622",
   "metadata": {},
   "outputs": [],
   "source": [
    "__init__ : 생성자 메서드\n",
    "__del__ : 소멸자 메서드\n",
    "__str__ : 매직 메서드 (해당 객체의 출력 형태를 지정)\n",
    "__repr__ : 매직 메서드 (객체의 표현식을 만듦)"
   ]
  },
  {
   "cell_type": "markdown",
   "id": "c049b9a4",
   "metadata": {},
   "source": [
    "# 3. Instance Method\n",
    ".sort() 와 같이 문자열, 리스트, 딕셔너리 등을 조작 할 때 사용하였던 것들은 클래스에\n",
    "정의된 메서드들이었다. 이처럼 문자열, 리스트, 딕셔너리 등을 조작하는 메서드를 최소\n",
    "3가지 이상 그 역할과 함께 작성하시오."
   ]
  },
  {
   "cell_type": "code",
   "execution_count": null,
   "id": "48a5b4cb",
   "metadata": {},
   "outputs": [],
   "source": [
    ".sort() : 정렬\n",
    ".upper() : 대문자로 변경\n",
    ".lower() : 소문자로 변경"
   ]
  },
  {
   "cell_type": "markdown",
   "id": "819ca43f",
   "metadata": {},
   "source": [
    "# 4. 오류의 종류\n",
    "아래에 제시된 오류들이 각각 어떠한 경우에 발생하는지 간단하게 작성하시오."
   ]
  },
  {
   "cell_type": "code",
   "execution_count": null,
   "id": "34a08e2a",
   "metadata": {},
   "outputs": [],
   "source": [
    "ZeroDivisionError : 값을 0으로 나눔\n",
    "NameError : 이름이 잘못 적힘\n",
    "TypeError : 타입읩 불일치\n",
    "IndexError : 없는 순서가 있음\n",
    "KeyError : 딕셔너리의 키가 없음\n",
    "ModuleNotFoundError : 없는 모듈 불러옴\n",
    "ImportError : 없는 임포트 불러옴\n"
   ]
  }
 ],
 "metadata": {
  "kernelspec": {
   "display_name": "Python 3 (ipykernel)",
   "language": "python",
   "name": "python3"
  },
  "language_info": {
   "codemirror_mode": {
    "name": "ipython",
    "version": 3
   },
   "file_extension": ".py",
   "mimetype": "text/x-python",
   "name": "python",
   "nbconvert_exporter": "python",
   "pygments_lexer": "ipython3",
   "version": "3.10.5"
  },
  "toc": {
   "base_numbering": 1,
   "nav_menu": {},
   "number_sections": true,
   "sideBar": true,
   "skip_h1_title": false,
   "title_cell": "Table of Contents",
   "title_sidebar": "Contents",
   "toc_cell": false,
   "toc_position": {},
   "toc_section_display": true,
   "toc_window_display": false
  }
 },
 "nbformat": 4,
 "nbformat_minor": 5
}
