{
 "cells": [
  {
   "cell_type": "markdown",
   "id": "da2a0e09",
   "metadata": {},
   "source": [
    "# 1. pip\n",
    "아래 명령어는 (1) 무엇을 위한 명령인지 (2) 실행은 어디에서 해야하는지 작성 하시오."
   ]
  },
  {
   "cell_type": "code",
   "execution_count": null,
   "id": "1aa25050",
   "metadata": {},
   "outputs": [],
   "source": [
    " pip install faker"
   ]
  },
  {
   "cell_type": "code",
   "execution_count": null,
   "id": "e6214c83",
   "metadata": {},
   "outputs": [],
   "source": [
    "더미데이터 생성, 터미널"
   ]
  },
  {
   "cell_type": "markdown",
   "id": "6ae1becf",
   "metadata": {},
   "source": [
    "# 2. Basic Usages(https://github.com/joke2k/faker#basic-usage)\n",
    "Faker는 다양한 메서드를 통해 임의의 결과값을 반환해준다.\n",
    "임의의 영문 이름을 반환하는 아래 코드에서 라인별 의미를 주석을 참고하여 작성하시오."
   ]
  },
  {
   "cell_type": "code",
   "execution_count": null,
   "id": "dcb819cb",
   "metadata": {},
   "outputs": [],
   "source": [
    "from faker import Faker # 1 _____을 하기 위한 코드이다.\n",
    "fake = Faker() # 2 Faker는 _____, fake는 _____이다.\n",
    "fake.name() # 3 name()은 fake의 _____이다."
   ]
  },
  {
   "cell_type": "code",
   "execution_count": null,
   "id": "bdbbbed2",
   "metadata": {},
   "outputs": [],
   "source": [
    "1. faker 생성\n",
    "2. 클래스 인스턴스\n",
    "3. 인스턴스"
   ]
  },
  {
   "cell_type": "markdown",
   "id": "142f6c2a",
   "metadata": {},
   "source": [
    "# 3. Localization(https://github.com/joke2k/faker#localization)\n",
    "Faker는 다양한 언어의 Locale을 지원한다.\n",
    "1. 인자 없이 호출 시에는 영문이 기본 설정이다. (en_US)"
   ]
  },
  {
   "cell_type": "code",
   "execution_count": null,
   "id": "4b5a8438",
   "metadata": {},
   "outputs": [],
   "source": [
    "fake = Faker()\n",
    "fake.name()\n",
    "# => ‘Shelly Wilcox` (랜덤이므로 결과 값이 다를 수 있음)"
   ]
  },
  {
   "cell_type": "markdown",
   "id": "c86a7a99",
   "metadata": {},
   "source": [
    "2. locale 정보를 포함하여 호출 시에는 해당 언어 설정을 따른다."
   ]
  },
  {
   "cell_type": "code",
   "execution_count": null,
   "id": "4f0ef5b1",
   "metadata": {},
   "outputs": [],
   "source": [
    "fake_ko = Faker(’ko_KR’)\n",
    "fake_ko.name()\n",
    "# => ’배송윤’ (랜덤이므로 결과 값이 다를 수 있음)"
   ]
  },
  {
   "cell_type": "markdown",
   "id": "3a1d3b3d",
   "metadata": {},
   "source": [
    "직접 해당하는 기능을 구현한다고 하였을 때, 빈칸 (a), (b), (c)에 들어갈 코드로\n",
    "적절한 것을 작성하시오. (힌트: 생성자 메서드와 함수의 개념)"
   ]
  },
  {
   "cell_type": "code",
   "execution_count": null,
   "id": "cc892b86",
   "metadata": {},
   "outputs": [],
   "source": [
    "class Faker():\n",
    "def _ _(a)_ _((b), (c)):\n",
    "pass"
   ]
  },
  {
   "cell_type": "code",
   "execution_count": null,
   "id": "adac6afa",
   "metadata": {},
   "outputs": [],
   "source": [
    "(a) : init\n",
    "(b) : self\n",
    "(c) : name"
   ]
  },
  {
   "cell_type": "markdown",
   "id": "e7a5a178",
   "metadata": {},
   "source": [
    "# 4. Seeding the Generator(https://github.com/joke2k/faker#seeding-the-generator)\n",
    "컴퓨터 프로그래밍에서 임의의 값을 반환하는 경우(난수 생성 등) 시드라는 개념이 있다.\n",
    "시드를 설정하게 되면 동일한 순서로 난수를 발생시킬 수 있어 일반적으로 디버깅을\n",
    "위하여 활용 된다."
   ]
  },
  {
   "cell_type": "code",
   "execution_count": null,
   "id": "3dafbdb5",
   "metadata": {},
   "outputs": [],
   "source": [
    "import random\n",
    "random.random() # => 임의의 수\n",
    "random.random() # => 임의의 수\n",
    "random.seed(7777)\n",
    "random.random() # => 0.8170477907294282\n",
    "random.seed(8888)\n",
    "random.random() # => 0.5765870569118247"
   ]
  },
  {
   "cell_type": "markdown",
   "id": "949fd972",
   "metadata": {},
   "source": [
    "① 아래의 코드를 실행 했을 때, #1과 #2에서 출력되는 결과를 각각 작성하고,\n",
    "seed()는 어떤 종류의 메서드인지 작성하시오."
   ]
  },
  {
   "cell_type": "code",
   "execution_count": null,
   "id": "b29f7a66",
   "metadata": {},
   "outputs": [],
   "source": [
    "fake1 = Faker(’ko_KR’)\n",
    "Faker.seed(87654321)\n",
    "print(fake1.name()) # 1\n",
    "fake2 = Faker(’ko_KR’)\n",
    "print(fake2.name()) # 2"
   ]
  },
  {
   "cell_type": "code",
   "execution_count": null,
   "id": "98662295",
   "metadata": {},
   "outputs": [],
   "source": [
    "ko_KR : 클래스 메서드\n",
    "ko_KR : 클래스 메서드"
   ]
  },
  {
   "cell_type": "markdown",
   "id": "c5d63db9",
   "metadata": {},
   "source": [
    "# 4. Seeding the Generator\n",
    "② 아래의 코드를 실행 했을 때, #1과 #2에서 출력되는 결과를 각각 작성하고,\n",
    "seed_instance()는 어떤 종류의 메서드인지 작성하시오."
   ]
  },
  {
   "cell_type": "code",
   "execution_count": null,
   "id": "37d0ce58",
   "metadata": {},
   "outputs": [],
   "source": [
    "fake1 = Faker(’ko_KR’)\n",
    "fake1.seed_instance(87654321)\n",
    "print(fake1.name()) # 1\n",
    "fake2 = Faker(’ko_KR’)\n",
    "print(fake2.name()) # 2"
   ]
  },
  {
   "cell_type": "code",
   "execution_count": null,
   "id": "3eee3c34",
   "metadata": {},
   "outputs": [],
   "source": [
    "ko_KR : 인스턴스 메서드\n",
    "ko_KR : 인스턴스 메서드"
   ]
  }
 ],
 "metadata": {
  "kernelspec": {
   "display_name": "Python 3 (ipykernel)",
   "language": "python",
   "name": "python3"
  },
  "language_info": {
   "codemirror_mode": {
    "name": "ipython",
    "version": 3
   },
   "file_extension": ".py",
   "mimetype": "text/x-python",
   "name": "python",
   "nbconvert_exporter": "python",
   "pygments_lexer": "ipython3",
   "version": "3.10.5"
  },
  "toc": {
   "base_numbering": 1,
   "nav_menu": {},
   "number_sections": true,
   "sideBar": true,
   "skip_h1_title": false,
   "title_cell": "Table of Contents",
   "title_sidebar": "Contents",
   "toc_cell": false,
   "toc_position": {},
   "toc_section_display": true,
   "toc_window_display": false
  }
 },
 "nbformat": 4,
 "nbformat_minor": 5
}
