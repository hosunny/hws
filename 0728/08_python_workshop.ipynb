{
 "cells": [
  {
   "cell_type": "markdown",
   "id": "a396f2f7",
   "metadata": {},
   "source": [
    "# 1. 도형 만들기\n",
    "아래의 명세를 읽고 Python 클래스를 활용하여 점(Point)과 사각형(Rectangle)을\n",
    "표현하시오."
   ]
  },
  {
   "cell_type": "markdown",
   "id": "2bc52d5c",
   "metadata": {},
   "source": [
    "인스턴스 변수 타입 설명\n",
    "x int x 좌표\n",
    "y int y 좌표\n",
    "메서드 매개변수 반환값(타입) 설명\n",
    "(생성자) x 좌표, y 좌표 없음 인스턴스가 생성될 때, \n",
    "전달 받은 int 값들로 인스턴스\n",
    "변수 x와 y를 초기화 한다."
   ]
  },
  {
   "cell_type": "markdown",
   "id": "8d0fdfe2",
   "metadata": {},
   "source": [
    "예를 들어, 좌표 (4, 3)의 점은 아래와 같이 표현할 수 있다."
   ]
  },
  {
   "cell_type": "code",
   "execution_count": null,
   "id": "f0d99357",
   "metadata": {},
   "outputs": [],
   "source": [
    "p1 = Point(4, 3)"
   ]
  },
  {
   "cell_type": "markdown",
   "id": "0169d9e5",
   "metadata": {},
   "source": [
    "Rectangle 클래스에 대한 명세는 다음과 같다."
   ]
  },
  {
   "cell_type": "code",
   "execution_count": null,
   "id": "1d17748b",
   "metadata": {},
   "outputs": [],
   "source": [
    "인스턴스 변수 타입 설명\n",
    "p1 Point 인스턴스 좌측 상단 좌표\n",
    "p2 Point 인스턴스 우측 하단 좌표\n",
    "메서드 매개변수 반환값(타입) 설명\n",
    "(생성자) Point\n",
    "인스턴스,\n",
    "Point\n",
    "인스턴스\n",
    "없음 인스턴스가 생성 될 때\n",
    "2개의 Point 인스턴스를\n",
    "전달 받아, 인스턴스 변수\n",
    "p1과 p2를 초기화 한다. \n",
    "get_area 없음 넓이(int) 사각형의 넓이를 계산하여\n",
    "반환한다.\n",
    "get_perimeter 없음 둘레 길이(int) 사각형의 둘레 길이를\n",
    "계산하여 반환한다.\n",
    "is_square 없음 정사각형 유무\n",
    "(bool)\n",
    "사각형이 정사각형이면 True, \n",
    "정사각형이 아니면 False를\n",
    "반환한다."
   ]
  },
  {
   "cell_type": "markdown",
   "id": "c5f10113",
   "metadata": {},
   "source": [
    "예를 들어, 좌측 상단 좌표 (1, 3)과 우측 하단 좌표 (3, 1)의 점으로 만든 사각형을\n",
    "그림으로 표현하면 다음과 같다.\n"
   ]
  },
  {
   "cell_type": "code",
   "execution_count": 26,
   "id": "e44d3b8d",
   "metadata": {},
   "outputs": [],
   "source": [
    "class Point:\n",
    "    def __init__(self, a, b):\n",
    "        self.a = a\n",
    "        self.b = b\n",
    "    \n",
    "class Rectangle:\n",
    "    def __init__(self, x, y):\n",
    "        self.x = x\n",
    "        self.y = y\n",
    "    def get_area(self):\n",
    "        return abs(self.x.a-self.y.a) * abs(self.x.b-self.y.b)\n",
    "    def get_perimeter(self):\n",
    "        return (abs(self.x.a-self.y.a) *2) + (abs(self.x.b-self.y.b) *2)\n",
    "    def is_square(self):\n",
    "        return abs(self.x.a-self.y.a) == abs(self.x.b-self.y.b)"
   ]
  },
  {
   "cell_type": "code",
   "execution_count": 27,
   "id": "0942a53c",
   "metadata": {},
   "outputs": [
    {
     "name": "stdout",
     "output_type": "stream",
     "text": [
      "4\n",
      "8\n",
      "True\n",
      "9\n",
      "12\n",
      "True\n"
     ]
    }
   ],
   "source": [
    "p1 = Point(1, 3)\n",
    "p2 = Point(3, 1)\n",
    "r1 = Rectangle(p1, p2)\n",
    "print(r1.get_area())\n",
    "print(r1.get_perimeter())\n",
    "print(r1.is_square())\n",
    "p3 = Point(3, 7)\n",
    "p4 = Point(6, 4)\n",
    "r2 = Rectangle(p3, p4)\n",
    "print(r2.get_area())\n",
    "print(r2.get_perimeter())\n",
    "print(r2.is_square())"
   ]
  },
  {
   "cell_type": "markdown",
   "id": "391d850d",
   "metadata": {},
   "source": [
    "위의 코드를 실행하였을 때, 아래와 같이 출력되어야 한다."
   ]
  },
  {
   "cell_type": "code",
   "execution_count": null,
   "id": "3f1a0e3f",
   "metadata": {},
   "outputs": [],
   "source": [
    "4\n",
    "8 \n",
    "True\n",
    "9\n",
    "12 \n",
    "Tru"
   ]
  }
 ],
 "metadata": {
  "kernelspec": {
   "display_name": "Python 3 (ipykernel)",
   "language": "python",
   "name": "python3"
  },
  "language_info": {
   "codemirror_mode": {
    "name": "ipython",
    "version": 3
   },
   "file_extension": ".py",
   "mimetype": "text/x-python",
   "name": "python",
   "nbconvert_exporter": "python",
   "pygments_lexer": "ipython3",
   "version": "3.9.13"
  }
 },
 "nbformat": 4,
 "nbformat_minor": 5
}
