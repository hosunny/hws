{
 "cells": [
  {
   "cell_type": "markdown",
   "id": "d05ee51a",
   "metadata": {},
   "source": [
    "# 1. Circle 인스턴스 만들기\n",
    "아래와 같은 Circle 클래스가 있을 때, 반지름이 3이고 x, y좌표가 (2, 4)인\n",
    "Circle 인스턴스를 만들어 넓이와 둘레를 출력하시오."
   ]
  },
  {
   "cell_type": "code",
   "execution_count": 6,
   "id": "6d4dabcd",
   "metadata": {},
   "outputs": [],
   "source": [
    "class Circle:\n",
    "    pi = 3.14\n",
    "    def __init__(self, r, x, y):\n",
    "        self.r = r\n",
    "        self.x = x\n",
    "        self.y = y\n",
    "    def area(self):\n",
    "        return Circle.pi * self.r * self.r\n",
    "    def circumference(self):\n",
    "        return 2 * Circle.pi * self.r\n",
    "    def center(self):\n",
    "        return (self.x, self.y)"
   ]
  },
  {
   "cell_type": "code",
   "execution_count": 7,
   "id": "1ffadff7",
   "metadata": {},
   "outputs": [
    {
     "name": "stdout",
     "output_type": "stream",
     "text": [
      "28.259999999999998\n",
      "18.84\n"
     ]
    }
   ],
   "source": [
    "ans = Circle(3, 2, 4)\n",
    "print(ans.area())\n",
    "\n",
    "ans = Circle(3, 2, 4)\n",
    "print(ans.circumference())"
   ]
  },
  {
   "cell_type": "markdown",
   "id": "7aaef22e",
   "metadata": {},
   "source": [
    "# 2. Dog과 Bird는 Animal이다\n",
    "다음과 같이 Animal 클래스가 주어질 때, 해당 클래스를 상속 받아 아래의 보기와 같이\n",
    "동작하는 Dog 클래스와 Bird 클래스를 작성하시오."
   ]
  },
  {
   "cell_type": "code",
   "execution_count": 16,
   "id": "5066eb1e",
   "metadata": {},
   "outputs": [
    {
     "ename": "SyntaxError",
     "evalue": "EOL while scanning string literal (463101298.py, line 5)",
     "output_type": "error",
     "traceback": [
      "\u001b[1;36m  Input \u001b[1;32mIn [16]\u001b[1;36m\u001b[0m\n\u001b[1;33m    print(f'{self.name}! 걷는다!’)\u001b[0m\n\u001b[1;37m                               ^\u001b[0m\n\u001b[1;31mSyntaxError\u001b[0m\u001b[1;31m:\u001b[0m EOL while scanning string literal\n"
     ]
    }
   ],
   "source": [
    "class Animal:\n",
    "    def __init__(self, name):\n",
    "        self.name = name\n",
    "    def walk(self):\n",
    "        print(f'{self.name}! 걷는다!’)\n",
    "    def eat(self):\n",
    "        print(f'{self.name}! 먹는다!')\n"
   ]
  },
  {
   "cell_type": "code",
   "execution_count": 17,
   "id": "af9d5122",
   "metadata": {},
   "outputs": [
    {
     "ename": "NameError",
     "evalue": "name 'Dog' is not defined",
     "output_type": "error",
     "traceback": [
      "\u001b[1;31m---------------------------------------------------------------------------\u001b[0m",
      "\u001b[1;31mNameError\u001b[0m                                 Traceback (most recent call last)",
      "Input \u001b[1;32mIn [17]\u001b[0m, in \u001b[0;36m<cell line: 1>\u001b[1;34m()\u001b[0m\n\u001b[1;32m----> 1\u001b[0m dog \u001b[38;5;241m=\u001b[39m \u001b[43mDog\u001b[49m(\u001b[38;5;124m'\u001b[39m\u001b[38;5;124m꼽이\u001b[39m\u001b[38;5;124m'\u001b[39m)\n\u001b[0;32m      2\u001b[0m dog\u001b[38;5;241m.\u001b[39mrun() \u001b[38;5;66;03m# 꼽이! 달린다! \u001b[39;00m\n\u001b[0;32m      3\u001b[0m dog\u001b[38;5;241m.\u001b[39mbark() \u001b[38;5;66;03m# 꼽이! 짖는다!\u001b[39;00m\n",
      "\u001b[1;31mNameError\u001b[0m: name 'Dog' is not defined"
     ]
    }
   ],
   "source": [
    "dog = Dog('꼽이')\n",
    "dog.run() # 꼽이! 달린다! \n",
    "dog.bark() # 꼽이! 짖는다!\n",
    "bird = Bird('구구')\n",
    "bird.walk() # 구구! 걷는다! \n",
    "bird.eat() # 구구! 먹는다! \n",
    "bird.fly() # 구구! 푸드덕!"
   ]
  },
  {
   "cell_type": "code",
   "execution_count": 20,
   "id": "1918dee2",
   "metadata": {},
   "outputs": [],
   "source": [
    "class Dog:\n",
    "    def __init__(self, name):\n",
    "        self.name = name\n",
    "    def bark(self):\n",
    "        print(f'{self.name}! 짖는다!')\n",
    "    def run(self):\n",
    "        print(f'{self.name}! 달린다!')\n",
    "class Bird :\n",
    "    def __init__(self, name):\n",
    "        self.name = name\n",
    "    def fly(self):\n",
    "        print(f'{self.name}! 푸드덕!')\n",
    "    def walk(self):\n",
    "        print(f'{self.name}! 걷는다!')\n",
    "    def eat(self):\n",
    "        print(f'{self.name}! 먹는다!')\n",
    "              "
   ]
  },
  {
   "cell_type": "code",
   "execution_count": 21,
   "id": "30c12cbb",
   "metadata": {},
   "outputs": [
    {
     "name": "stdout",
     "output_type": "stream",
     "text": [
      "꼽이! 달린다!\n",
      "꼽이! 짖는다!\n",
      "구구! 걷는다!\n",
      "구구! 먹는다!\n",
      "구구! 푸드덕!\n"
     ]
    }
   ],
   "source": [
    "dog = Dog('꼽이')\n",
    "dog.run() # 꼽이! 달린다! \n",
    "dog.bark() # 꼽이! 짖는다!\n",
    "bird = Bird('구구')\n",
    "bird.walk() # 구구! 걷는다! \n",
    "bird.eat() # 구구! 먹는다! \n",
    "bird.fly() # 구구! 푸드덕!"
   ]
  },
  {
   "cell_type": "markdown",
   "id": "8aed0c65",
   "metadata": {},
   "source": [
    "# 3. Module Import"
   ]
  },
  {
   "cell_type": "code",
   "execution_count": null,
   "id": "a76b41da",
   "metadata": {},
   "outputs": [],
   "source": [
    "# fibo.py\n",
    "def fibo_recursion(n):\n",
    "    if n < 2:\n",
    "        return n\n",
    "    else:\n",
    "        return fibo_recursion(n-1) + fibo_recursion(n-2)"
   ]
  },
  {
   "cell_type": "markdown",
   "id": "69f14a2b",
   "metadata": {},
   "source": [
    "위와 같은 코드가 같은 폴더 안의 fibo.py 파일에 작성되어 있을 때, 아래와 같은 형태로\n",
    "함수를 실행 할 수 있도록 하는 import 문을 빈칸 (a), (b), (c)를 채워 넣어 완성하시오."
   ]
  },
  {
   "cell_type": "code",
   "execution_count": null,
   "id": "64b0da61",
   "metadata": {},
   "outputs": [],
   "source": [
    "from __(a)__ import __(b)__ as __(c)__\n",
    "recursion(4)"
   ]
  },
  {
   "cell_type": "code",
   "execution_count": null,
   "id": "d1fae387",
   "metadata": {},
   "outputs": [],
   "source": [
    "(a) fibo\n",
    "(b) fibo_recursion\n",
    "(c) recursion"
   ]
  }
 ],
 "metadata": {
  "kernelspec": {
   "display_name": "Python 3 (ipykernel)",
   "language": "python",
   "name": "python3"
  },
  "language_info": {
   "codemirror_mode": {
    "name": "ipython",
    "version": 3
   },
   "file_extension": ".py",
   "mimetype": "text/x-python",
   "name": "python",
   "nbconvert_exporter": "python",
   "pygments_lexer": "ipython3",
   "version": "3.9.13"
  }
 },
 "nbformat": 4,
 "nbformat_minor": 5
}
