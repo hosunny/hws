{
 "cells": [
  {
   "cell_type": "markdown",
   "id": "4dce0e37",
   "metadata": {},
   "source": [
    "# 1. 문자 print\n",
    "\n",
    "It’s SSAFY 8 을 출력하는 프로그램을 작성하시오. (중간에 작은따옴표가 있다.) "
   ]
  },
  {
   "cell_type": "code",
   "execution_count": null,
   "id": "60f35ec3",
   "metadata": {},
   "outputs": [],
   "source": [
    "print(\"It’s SSAFY 8\")"
   ]
  },
  {
   "cell_type": "markdown",
   "id": "1cfbc675",
   "metadata": {},
   "source": [
    "# 2. 숫자 print\n",
    "\n",
    "458345 + 623576 를 계산하여 출력하는 프로그램을 작성하시오."
   ]
  },
  {
   "cell_type": "code",
   "execution_count": null,
   "id": "139550fe",
   "metadata": {},
   "outputs": [],
   "source": [
    "print(458345 + 623576)"
   ]
  },
  {
   "cell_type": "markdown",
   "id": "5d3217aa",
   "metadata": {},
   "source": [
    "# 3. 변수를 사용해서 데이터 출력하기\n",
    "\n",
    "두 변수 greeting, month를 사용해서 Hello July 를 출력하는\n",
    "프로그램을 작성하시오."
   ]
  },
  {
   "cell_type": "code",
   "execution_count": 5,
   "id": "7f3a822c",
   "metadata": {},
   "outputs": [
    {
     "name": "stdout",
     "output_type": "stream",
     "text": [
      "Hello July\n"
     ]
    }
   ],
   "source": [
    "greeting = 'Hello'\n",
    "month = 'July'\n",
    "print(greeting, month)"
   ]
  },
  {
   "cell_type": "markdown",
   "id": "2bbc92a8",
   "metadata": {},
   "source": [
    "# 4. 문자형의 입력과 출력\n",
    "\n",
    "입력 받은 문자를 출력하는 프로그램을 작성하시오.\n",
    "(힌트 : input() 함수를 활용하여 데이터를 입력받을 수 있다.)"
   ]
  },
  {
   "cell_type": "code",
   "execution_count": null,
   "id": "cdcf0cad",
   "metadata": {},
   "outputs": [],
   "source": [
    "word = input('')\n",
    "print(word)"
   ]
  }
 ],
 "metadata": {
  "kernelspec": {
   "display_name": "Python 3 (ipykernel)",
   "language": "python",
   "name": "python3"
  },
  "language_info": {
   "codemirror_mode": {
    "name": "ipython",
    "version": 3
   },
   "file_extension": ".py",
   "mimetype": "text/x-python",
   "name": "python",
   "nbconvert_exporter": "python",
   "pygments_lexer": "ipython3",
   "version": "3.10.5"
  },
  "toc": {
   "base_numbering": 1,
   "nav_menu": {},
   "number_sections": true,
   "sideBar": true,
   "skip_h1_title": false,
   "title_cell": "Table of Contents",
   "title_sidebar": "Contents",
   "toc_cell": false,
   "toc_position": {},
   "toc_section_display": true,
   "toc_window_display": false
  }
 },
 "nbformat": 4,
 "nbformat_minor": 5
}
