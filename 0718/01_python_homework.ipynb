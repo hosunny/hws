{
 "cells": [
  {
   "cell_type": "markdown",
   "id": "0eecd35e",
   "metadata": {},
   "source": [
    "# 1. Python 예약어\n",
    "python에서 사용할 수 없는 식별자(예약어)를 찾아 작성하시오."
   ]
  },
  {
   "cell_type": "markdown",
   "id": "83a0dc54",
   "metadata": {},
   "source": [
    "import, sort, random, upper..."
   ]
  },
  {
   "cell_type": "markdown",
   "id": "077ea21c",
   "metadata": {},
   "source": [
    "# 2. 실수 비교\n",
    "python은 부동소수점 방식을 이용하여 실수(float)를 표현하는 과정에서, 나타내고자 하는\n",
    "값과의 오차가 발생하여 원하는 대로 연산 또는 비교가 되지 않을 때가 있다. \n",
    "이를 참고하여, 아래와 같은 두 실수 값을 올바르게 비교하기 위한 코드를 작성하시오."
   ]
  },
  {
   "cell_type": "code",
   "execution_count": 1,
   "id": "39d703c7",
   "metadata": {},
   "outputs": [
    {
     "name": "stdout",
     "output_type": "stream",
     "text": [
      "True\n"
     ]
    }
   ],
   "source": [
    "num1 = 0.1 * 3\n",
    "num2 = 0.3 \n",
    "print(int(num1) == int(num2))"
   ]
  },
  {
   "cell_type": "markdown",
   "id": "dde8c724",
   "metadata": {},
   "source": [
    "# 3. 이스케이프 시퀀스\n",
    "(1) 줄 바꿈, (2) 탭, (3) 백슬래시를 의미하는 이스케이프 시퀀스를 작성하시오."
   ]
  },
  {
   "cell_type": "markdown",
   "id": "bbc653b6",
   "metadata": {},
   "source": [
    "줄 바꿈  = `\\n`\n",
    "    탭   = `\\t`\n",
    "백슬래시 = `\\`"
   ]
  },
  {
   "cell_type": "markdown",
   "id": "5d23475b",
   "metadata": {},
   "source": [
    "# 4. String Interpolation\n",
    "안녕, 철수야 를 string interpolation을 사용하여 출력하시오."
   ]
  },
  {
   "cell_type": "code",
   "execution_count": 3,
   "id": "df6a5765",
   "metadata": {},
   "outputs": [
    {
     "name": "stdout",
     "output_type": "stream",
     "text": [
      "안녕, 철수야\n"
     ]
    }
   ],
   "source": [
    "name = \"철수\"\n",
    "print(f'안녕, {name}야')"
   ]
  },
  {
   "cell_type": "markdown",
   "id": "737ff8a1",
   "metadata": {},
   "source": [
    "# 5. 형 변환\n",
    "다음 중, 실행 시 오류가 발생하는 코드를 고르시오."
   ]
  },
  {
   "cell_type": "code",
   "execution_count": 6,
   "id": "4ce6a08f",
   "metadata": {},
   "outputs": [
    {
     "ename": "ValueError",
     "evalue": "invalid literal for int() with base 10: '3.5'",
     "output_type": "error",
     "traceback": [
      "\u001b[1;31m---------------------------------------------------------------------------\u001b[0m",
      "\u001b[1;31mValueError\u001b[0m                                Traceback (most recent call last)",
      "Input \u001b[1;32mIn [6]\u001b[0m, in \u001b[0;36m<cell line: 1>\u001b[1;34m()\u001b[0m\n\u001b[1;32m----> 1\u001b[0m \u001b[38;5;28;43mint\u001b[39;49m\u001b[43m(\u001b[49m\u001b[38;5;124;43m'\u001b[39;49m\u001b[38;5;124;43m3.5\u001b[39;49m\u001b[38;5;124;43m'\u001b[39;49m\u001b[43m)\u001b[49m\n",
      "\u001b[1;31mValueError\u001b[0m: invalid literal for int() with base 10: '3.5'"
     ]
    }
   ],
   "source": [
    "int('3.5')    #int는 정수에서 쓰이기 때문"
   ]
  },
  {
   "cell_type": "markdown",
   "id": "629ad40a",
   "metadata": {},
   "source": [
    "# 6. 네모 출력\n",
    "두 개의 정수 n과 m이 주어졌을 때, 가로의 길이가 n, 세로의 길이가 m인\n",
    "직사각형 형태를 별(*) 문자를 이용하여 출력하시오. 단, 반복문은 사용할 수 없다."
   ]
  },
  {
   "cell_type": "code",
   "execution_count": 33,
   "id": "f6889504",
   "metadata": {},
   "outputs": [
    {
     "name": "stdout",
     "output_type": "stream",
     "text": [
      "*****\n"
     ]
    }
   ],
   "source": [
    "n = 5\n",
    "m = 9\n",
    "line = '*' * n * m\n",
    "line_2 = line[:n]\n"
   ]
  },
  {
   "cell_type": "markdown",
   "id": "d8d52f83",
   "metadata": {},
   "source": [
    "# 7. 이스케이프 시퀀스 응용\n",
    "print() 함수를 한 번만 사용하여 다음 문장을 출력하시오."
   ]
  },
  {
   "cell_type": "code",
   "execution_count": 49,
   "id": "cc9818ef",
   "metadata": {},
   "outputs": [
    {
     "ename": "SyntaxError",
     "evalue": "(unicode error) 'unicodeescape' codec can't decode bytes in position 53-54: truncated \\UXXXXXXXX escape (2891821779.py, line 1)",
     "output_type": "error",
     "traceback": [
      "\u001b[1;36m  Input \u001b[1;32mIn [49]\u001b[1;36m\u001b[0m\n\u001b[1;33m    print('''감 \"파일은 c:\\Windows\\Users\\내문서\\Python에 저장이 되었습니다.\" 사''')\u001b[0m\n\u001b[1;37m                                                                 ^\u001b[0m\n\u001b[1;31mSyntaxError\u001b[0m\u001b[1;31m:\u001b[0m (unicode error) 'unicodeescape' codec can't decode bytes in position 53-54: truncated \\UXXXXXXXX escape\n"
     ]
    }
   ],
   "source": [
    "print('''감 \"파일은 c:\\Windows\\Users\\내문서\\Python에 저장이 되었습니다.\" 사''')"
   ]
  },
  {
   "attachments": {
    "image.png": {
     "image/png": "[encoded data removed]"
    }
   },
   "cell_type": "markdown",
   "id": "28ebbbcf",
   "metadata": {},
   "source": [
    "# 8. 근의 공식\n",
    "다음은 이차 방정식의 근을 찾는 수식이다. 이를 파이썬 코드로 작성하시오.\n",
    "![image.png](attachment:image.png)"
   ]
  },
  {
   "cell_type": "code",
   "execution_count": 40,
   "id": "9dcffdf9",
   "metadata": {},
   "outputs": [
    {
     "name": "stdout",
     "output_type": "stream",
     "text": [
      "-1.0\n"
     ]
    }
   ],
   "source": [
    "a = 2\n",
    "b = 4\n",
    "c = 2\n",
    "answer = (-b +,- (b ** 2 - 4 * a * c) ** 0.5) / (2 * a)\n",
    "print(answer)"
   ]
  }
 ],
 "metadata": {
  "kernelspec": {
   "display_name": "Python 3 (ipykernel)",
   "language": "python",
   "name": "python3"
  },
  "language_info": {
   "codemirror_mode": {
    "name": "ipython",
    "version": 3
   },
   "file_extension": ".py",
   "mimetype": "text/x-python",
   "name": "python",
   "nbconvert_exporter": "python",
   "pygments_lexer": "ipython3",
   "version": "3.10.5"
  },
  "toc": {
   "base_numbering": 1,
   "nav_menu": {},
   "number_sections": true,
   "sideBar": true,
   "skip_h1_title": false,
   "title_cell": "Table of Contents",
   "title_sidebar": "Contents",
   "toc_cell": false,
   "toc_position": {},
   "toc_section_display": true,
   "toc_window_display": false
  }
 },
 "nbformat": 4,
 "nbformat_minor": 5
}
