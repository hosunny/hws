{
 "cells": [
  {
   "cell_type": "markdown",
   "id": "eb1d1c1e",
   "metadata": {},
   "source": [
    "# 1. 세로로 출력하기\n",
    "자연수 number를 입력 받아, 1부터 number까지의 수를 세로로 한줄씩 출력하시오.\n"
   ]
  },
  {
   "cell_type": "code",
   "execution_count": 7,
   "id": "c1dda673",
   "metadata": {},
   "outputs": [
    {
     "name": "stdout",
     "output_type": "stream",
     "text": [
      "숫자를 입력하세요 :8\n",
      "1\n",
      "2\n",
      "3\n",
      "4\n",
      "5\n",
      "6\n",
      "7\n",
      "8\n"
     ]
    }
   ],
   "source": [
    "num = int(input(\"숫자를 입력하세요 :\"))\n",
    "\n",
    "for i in range(1,num + 1) :\n",
    "    print(i)\n",
    "    i += 1"
   ]
  },
  {
   "cell_type": "markdown",
   "id": "3c5b73ab",
   "metadata": {},
   "source": [
    "# 2. 가로로 출력하기\n",
    "자연수 number를 입력 받아, 1부터 number까지의 수를 가로로 한칸씩 띄어 출력하시오."
   ]
  },
  {
   "cell_type": "code",
   "execution_count": 10,
   "id": "5fd972ca",
   "metadata": {},
   "outputs": [
    {
     "name": "stdout",
     "output_type": "stream",
     "text": [
      "숫자를 입력하세요 :8\n",
      "1 2 3 4 5 6 7 8 "
     ]
    }
   ],
   "source": [
    "num = int(input(\"숫자를 입력하세요 :\"))\n",
    "\n",
    "for i in range(1,num + 1) :\n",
    "    print(i, end = ' ')\n"
   ]
  },
  {
   "cell_type": "markdown",
   "id": "fd0483d7",
   "metadata": {},
   "source": [
    "# 3. 거꾸로 세로로 출력하기\n",
    "자연수 number를 입력 받아, number부터 0까지의 수를 세로로 한줄씩 출력하시오"
   ]
  },
  {
   "cell_type": "code",
   "execution_count": 12,
   "id": "6c0126e0",
   "metadata": {},
   "outputs": [
    {
     "name": "stdout",
     "output_type": "stream",
     "text": [
      "숫자를 입력하세요 :8\n",
      "8\n",
      "7\n",
      "6\n",
      "5\n",
      "4\n",
      "3\n",
      "2\n",
      "1\n",
      "0\n"
     ]
    }
   ],
   "source": [
    "num = int(input(\"숫자를 입력하세요 :\"))\n",
    "\n",
    "for i in range(num, -1, -1) :\n",
    "    print(i)\n",
    "    i += 1"
   ]
  },
  {
   "cell_type": "markdown",
   "id": "fb22bd9d",
   "metadata": {},
   "source": [
    "# 4. 거꾸로 출력해 보아요 (SWEA #1545)\n",
    "자연수 number를 입력 받아, number부터 0까지의 수를 가로로 한칸씩 띄어 출력하시오.\n"
   ]
  },
  {
   "cell_type": "code",
   "execution_count": 13,
   "id": "d170bdf9",
   "metadata": {},
   "outputs": [
    {
     "name": "stdout",
     "output_type": "stream",
     "text": [
      "숫자를 입력하세요 :8\n",
      "8 7 6 5 4 3 2 1 0 "
     ]
    }
   ],
   "source": [
    "num = int(input(\"숫자를 입력하세요 :\"))\n",
    "\n",
    "for i in range(num, -1, -1) :\n",
    "    print(i, end = ' ')\n"
   ]
  },
  {
   "cell_type": "markdown",
   "id": "2627bc55",
   "metadata": {},
   "source": [
    "# 5. N줄 덧셈 (SWEA #2025)\n",
    "입력으로 자연수 number가 주어질 때, 1부터 주어진 자연수 number까지를 모두 더한\n",
    "값을 출력하시오. 단, 주어지는 숫자는 10000을 넘지 않는다. 예를 들어, 주어진 숫자가\n",
    "10일 경우 1 + 2 + 3 + 4 + 5 + 6 + 7 + 8 + 9 + 10 = 55이므로, 출력해야 할 값은 55이다\n"
   ]
  },
  {
   "cell_type": "code",
   "execution_count": 12,
   "id": "7accf0e0",
   "metadata": {},
   "outputs": [
    {
     "name": "stdout",
     "output_type": "stream",
     "text": [
      "숫자를 입력하세요 :6\n",
      "21\n",
      "\n",
      "21\n"
     ]
    }
   ],
   "source": [
    "num = int(input(\"숫자를 입력하세요 :\"))\n",
    "\n",
    "total = 0\n",
    "for i in list(range(num+1)) :\n",
    "    total += i\n",
    "print(total)\n",
    "\n",
    "print()\n",
    "\n",
    "j = 0\n",
    "total = 0\n",
    "while j <= num :\n",
    "    total += j\n",
    "    j += 1\n",
    "print(total)\n"
   ]
  },
  {
   "cell_type": "markdown",
   "id": "b2f672dd",
   "metadata": {},
   "source": [
    "# 6. 삼각형 출력하기\n",
    "자연수 number를 입력 받아, 아래와 같이 높이가 number인 삼각형을 출력하시오."
   ]
  },
  {
   "cell_type": "code",
   "execution_count": 22,
   "id": "811136c9",
   "metadata": {},
   "outputs": [
    {
     "name": "stdout",
     "output_type": "stream",
     "text": [
      "숫자를 입력하세요 :7\n",
      "        *\n",
      "       **\n",
      "      ***\n",
      "     ****\n",
      "    *****\n",
      "   ******\n",
      "  *******\n"
     ]
    }
   ],
   "source": [
    "num = int(input(\"숫자를 입력하세요 :\"))\n",
    "\n",
    "i = 0\n",
    "for i in range(1, num + 1):\n",
    "    print(' ' * (num + 1 - i) ,'*' * i )"
   ]
  },
  {
   "cell_type": "markdown",
   "id": "7759ee73",
   "metadata": {},
   "source": [
    "# 7. 중간값 찾기 (SWEA #2063 변형)\n",
    "중간값은 통계 집단의 수치를 크기 순으로 배열 했을 때 전체의 중앙에 위치하는 수치를\n",
    "뜻한다. 리스트 numbers에 입력된 숫자에서 중간값을 출력하라.\n",
    "\n",
    "numbers = [\n",
    "85, 72, 38, 80, 69, 65, 68, 96, 22, 49, 67,\n",
    "51, 61, 63, 87, 66, 24, 80, 83, 71, 60, 64,\n",
    "52, 90, 60, 49, 31, 23, 99, 94, 11, 25, 24,\n",
    "]\n"
   ]
  },
  {
   "cell_type": "code",
   "execution_count": 52,
   "id": "c2c0dc90",
   "metadata": {},
   "outputs": [
    {
     "name": "stdout",
     "output_type": "stream",
     "text": [
      "64\n"
     ]
    }
   ],
   "source": [
    "numbers = [ 85, 72, 38, 80, 69, 65, 68, 96, 22, 49,\n",
    "            67, 51, 61, 63, 87, 66, 24, 80, 83, 71, \n",
    "            60, 64, 52, 90, 60, 49, 31, 23, 99, 94, \n",
    "            11, 25, 24 ]\n",
    "\n",
    "from math import*\n",
    "\n",
    "num = len(numbers) // 2 \n",
    "numbers.sort()\n",
    "\n",
    "print(numbers[num])"
   ]
  }
 ],
 "metadata": {
  "kernelspec": {
   "display_name": "Python 3 (ipykernel)",
   "language": "python",
   "name": "python3"
  },
  "language_info": {
   "codemirror_mode": {
    "name": "ipython",
    "version": 3
   },
   "file_extension": ".py",
   "mimetype": "text/x-python",
   "name": "python",
   "nbconvert_exporter": "python",
   "pygments_lexer": "ipython3",
   "version": "3.10.5"
  },
  "toc": {
   "base_numbering": 1,
   "nav_menu": {},
   "number_sections": true,
   "sideBar": true,
   "skip_h1_title": false,
   "title_cell": "Table of Contents",
   "title_sidebar": "Contents",
   "toc_cell": false,
   "toc_position": {},
   "toc_section_display": true,
   "toc_window_display": false
  }
 },
 "nbformat": 4,
 "nbformat_minor": 5
}
