{
 "cells": [
  {
   "cell_type": "markdown",
   "id": "a9dd9b47",
   "metadata": {},
   "source": [
    "# 1. Built-in 함수\n",
    "Python에서 기본으로 사용할 수 있는 built-in 함수를 최소 5가지 이상 작성하시오."
   ]
  },
  {
   "cell_type": "code",
   "execution_count": null,
   "id": "85ba11fe",
   "metadata": {},
   "outputs": [],
   "source": [
    "print()\n",
    "len()\n",
    "sum()\n",
    "max()\n",
    "min()"
   ]
  },
  {
   "cell_type": "markdown",
   "id": "29660c53",
   "metadata": {},
   "source": [
    "# 2. 홀수만 담기\n",
    "range와 slicing을 활용하여 1부터 50까지의 숫자 중,\n",
    "홀수로만 이루어진 리스트를 만드시오."
   ]
  },
  {
   "cell_type": "code",
   "execution_count": 5,
   "id": "9c7f10d7",
   "metadata": {},
   "outputs": [
    {
     "name": "stdout",
     "output_type": "stream",
     "text": [
      "[1, 3, 5, 7, 9, 11, 13, 15, 17, 19, 21, 23, 25, 27, 29, 31, 33, 35, 37, 39, 41, 43, 45, 47, 49]\n"
     ]
    }
   ],
   "source": [
    "num = list(range(1, 51))\n",
    "\n",
    "print(num[0:51:2])"
   ]
  },
  {
   "cell_type": "markdown",
   "id": "c07d7d19",
   "metadata": {},
   "source": [
    "# 3. 반복문으로 네모 출력\n",
    "두 개의 정수 n과 m이 주어졌을 때, 가로의 길이가 n, 세로의 길이가 m인 직사각형 형태를\n",
    "별(*) 문자를 이용하여 출력하시오. 단, 반복문을 사용하여 작성하시오.\n"
   ]
  },
  {
   "cell_type": "code",
   "execution_count": 24,
   "id": "a813740c",
   "metadata": {},
   "outputs": [
    {
     "name": "stdout",
     "output_type": "stream",
     "text": [
      "n의 값을 입력하세요 :3\n",
      "m의 값을 입력하세요 :5\n",
      "***\n",
      "***\n",
      "***\n",
      "***\n",
      "***\n"
     ]
    }
   ],
   "source": [
    "n = int(input(\"n의 값을 입력하세요 :\"))\n",
    "m = int(input(\"m의 값을 입력하세요 :\"))\n",
    "\n",
    "for i in range(1, m+1):\n",
    "    print('*' * n)"
   ]
  },
  {
   "cell_type": "markdown",
   "id": "58adbb30",
   "metadata": {},
   "source": [
    "# 4. 조건 표현식\n",
    "주어진 코드의 조건문을 조건 표현식으로 바꾸어 작성하시오."
   ]
  },
  {
   "cell_type": "markdown",
   "id": "b896fc2c",
   "metadata": {},
   "source": [
    "temp = 36.5\n",
    "\n",
    "if temp >= 37.5:\n",
    "\n",
    "print('입실 불가')\n",
    "\n",
    "else:\n",
    "\n",
    "print('입실 가능')"
   ]
  },
  {
   "cell_type": "code",
   "execution_count": 26,
   "id": "7af4101c",
   "metadata": {},
   "outputs": [
    {
     "name": "stdout",
     "output_type": "stream",
     "text": [
      "입실 가능\n"
     ]
    }
   ],
   "source": [
    "temp = 36.5\n",
    "print('입실 불가') if temp >= 37.5 else print('입실 가능')"
   ]
  },
  {
   "cell_type": "markdown",
   "id": "df161e79",
   "metadata": {},
   "source": [
    "# 5. 정중앙 문자\n",
    "문자열을 전달 받아 해당 문자열의 정중앙 문자를 반환하는 get_middle_char 함수를\n",
    "작성하시오.\n",
    "단, 문자열의 길이가 짝수일 경우에는 정중앙 문자 2개를 반환한다.\n"
   ]
  },
  {
   "cell_type": "code",
   "execution_count": 40,
   "id": "ff01363d",
   "metadata": {},
   "outputs": [
    {
     "name": "stdout",
     "output_type": "stream",
     "text": [
      "문자열을 입력하세요 :ssafy\n"
     ]
    },
    {
     "data": {
      "text/plain": [
       "'a'"
      ]
     },
     "execution_count": 40,
     "metadata": {},
     "output_type": "execute_result"
    }
   ],
   "source": [
    "word = input(\"문자열을 입력하세요 :\")\n",
    "\n",
    "def get_middle_char(word):\n",
    "    num = len(word) // 2\n",
    "\n",
    "    if len(word) % 2:\n",
    "        middle = word[num]\n",
    "    else:\n",
    "        middle = word[num-1:num+1]\n",
    "\n",
    "    return middle\n",
    "\n",
    "get_middle_char(word)"
   ]
  }
 ],
 "metadata": {
  "kernelspec": {
   "display_name": "Python 3 (ipykernel)",
   "language": "python",
   "name": "python3"
  },
  "language_info": {
   "codemirror_mode": {
    "name": "ipython",
    "version": 3
   },
   "file_extension": ".py",
   "mimetype": "text/x-python",
   "name": "python",
   "nbconvert_exporter": "python",
   "pygments_lexer": "ipython3",
   "version": "3.10.5"
  },
  "toc": {
   "base_numbering": 1,
   "nav_menu": {},
   "number_sections": true,
   "sideBar": true,
   "skip_h1_title": false,
   "title_cell": "Table of Contents",
   "title_sidebar": "Contents",
   "toc_cell": false,
   "toc_position": {},
   "toc_section_display": true,
   "toc_window_display": false
  }
 },
 "nbformat": 4,
 "nbformat_minor": 5
}
